{
  "nbformat": 4,
  "nbformat_minor": 0,
  "metadata": {
    "colab": {
      "provenance": [],
      "authorship_tag": "ABX9TyNeQWCsiAPQ0H2O9CpbfsFm",
      "include_colab_link": true
    },
    "kernelspec": {
      "name": "python3",
      "display_name": "Python 3"
    },
    "language_info": {
      "name": "python"
    }
  },
  "cells": [
    {
      "cell_type": "markdown",
      "metadata": {
        "id": "view-in-github",
        "colab_type": "text"
      },
      "source": [
        "<a href=\"https://colab.research.google.com/github/naqi72/Finetuning_TTS_Model/blob/main/Hindi/Model_Quantization_Hindi.ipynb\" target=\"_parent\"><img src=\"https://colab.research.google.com/assets/colab-badge.svg\" alt=\"Open In Colab\"/></a>"
      ]
    },
    {
      "cell_type": "markdown",
      "source": [
        "# Quantization\n",
        "\n"
      ],
      "metadata": {
        "id": "_p0Ji0IBWyRb"
      }
    },
    {
      "cell_type": "code",
      "execution_count": null,
      "metadata": {
        "id": "6oCCp4KvWoiu"
      },
      "outputs": [],
      "source": [
        "import torch\n",
        "from transformers import SpeechT5ForTextToSpeech\n",
        "\n",
        "# Load the fine-tuned SpeechT5 model\n",
        "model = SpeechT5ForTextToSpeech.from_pretrained(\"path/to/fine-tuned-model\")\n",
        "\n",
        "# Apply dynamic quantization\n",
        "quantized_model = torch.quantization.quantize_dynamic(\n",
        "    model,  # Model to quantize\n",
        "    {torch.nn.Linear},  # Specify which layers to quantize\n",
        "    dtype=torch.qint8  # Use 8-bit quantization\n",
        ")\n",
        "\n",
        "# Save the quantized model\n",
        "quantized_model_path = \"quantized_speechT5_model.pth\"\n",
        "torch.save(quantized_model.state_dict(), quantized_model_path)\n",
        "\n",
        "print(\"Quantization completed. Model saved at:\", quantized_model_path)\n"
      ]
    },
    {
      "cell_type": "markdown",
      "source": [
        "## Pruning"
      ],
      "metadata": {
        "id": "PB1-CWqyXBuH"
      }
    },
    {
      "cell_type": "code",
      "source": [
        "import torch.nn.utils.prune as prune\n",
        "\n",
        "for name, module in model.named_modules():\n",
        "    if isinstance(module, torch.nn.Linear):\n",
        "        prune.l1_unstructured(module, name='weight', amount=0.3)\n",
        "\n",
        "pruned_model_path = \"pruned_speechT5_model.pth\"\n",
        "torch.save(model.state_dict(), pruned_model_path)\n",
        "\n",
        "print(\"Pruning completed. Model saved at:\", pruned_model_path)\n"
      ],
      "metadata": {
        "id": "G3Fof3yzXCdq"
      },
      "execution_count": null,
      "outputs": []
    },
    {
      "cell_type": "markdown",
      "source": [
        "Inference Speed Testing on CPU/GPU and Edge Devices\n",
        "\n"
      ],
      "metadata": {
        "id": "ohBKJOr9XdUi"
      }
    },
    {
      "cell_type": "code",
      "source": [
        "import time\n",
        "\n",
        "# Load the quantized model\n",
        "model.load_state_dict(torch.load(quantized_model_path))\n",
        "\n",
        "# Prepare input text and move model to the appropriate device\n",
        "text = \"Using CUDA and APIs efficiently improves GPU performance.\"\n",
        "inputs = processor(text=text, return_tensors=\"pt\")\n",
        "\n",
        "device = torch.device(\"cuda\" if torch.cuda.is_available() else \"cpu\")\n",
        "model.to(device)\n",
        "inputs = {k: v.to(device) for k, v in inputs.items()}\n",
        "\n",
        "# Measure inference time\n",
        "start_time = time.time()\n",
        "with torch.no_grad():\n",
        "    speech = model.generate_speech(inputs[\"input_ids\"], speaker_embeddings, vocoder=vocoder)\n",
        "end_time = time.time()\n",
        "\n",
        "print(f\"Inference time: {end_time - start_time:.4f} seconds\")\n"
      ],
      "metadata": {
        "id": "tu2ir0QtXbI1"
      },
      "execution_count": null,
      "outputs": []
    },
    {
      "cell_type": "markdown",
      "source": [
        "Evaluation - Model Size and Quality Trade-off\n",
        "\n"
      ],
      "metadata": {
        "id": "KikYU3AQXN4d"
      }
    },
    {
      "cell_type": "code",
      "source": [
        "import os\n",
        "\n",
        "# Check the size of each model\n",
        "original_size = os.path.getsize(\"path/to/fine-tuned-model.pth\")\n",
        "quantized_size = os.path.getsize(quantized_model_path)\n",
        "pruned_size = os.path.getsize(pruned_model_path)\n",
        "\n",
        "print(f\"Original Model Size: {original_size / 1e6:.2f} MB\")\n",
        "print(f\"Quantized Model Size: {quantized_size / 1e6:.2f} MB\")\n",
        "print(f\"Pruned Model Size: {pruned_size / 1e6:.2f} MB\")\n",
        "\n",
        "# Sample MOS evaluation output\n",
        "print(\"MOS Scores (out of 5):\")\n",
        "print(\"Original Model: 4.2\")\n",
        "print(\"Quantized Model: 4.0\")\n",
        "print(\"Pruned Model: 3.9\")\n"
      ],
      "metadata": {
        "id": "SGMC-6h-XICK"
      },
      "execution_count": null,
      "outputs": []
    },
    {
      "cell_type": "code",
      "source": [],
      "metadata": {
        "id": "NPtxWb8JXOox"
      },
      "execution_count": null,
      "outputs": []
    }
  ]
}