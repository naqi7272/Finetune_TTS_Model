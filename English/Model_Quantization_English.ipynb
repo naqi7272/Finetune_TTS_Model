{
  "nbformat": 4,
  "nbformat_minor": 0,
  "metadata": {
    "colab": {
      "provenance": [],
      "authorship_tag": "ABX9TyPB82l6rsr9eegS21wS09Hw",
      "include_colab_link": true
    },
    "kernelspec": {
      "name": "python3",
      "display_name": "Python 3"
    },
    "language_info": {
      "name": "python"
    }
  },
  "cells": [
    {
      "cell_type": "markdown",
      "metadata": {
        "id": "view-in-github",
        "colab_type": "text"
      },
      "source": [
        "<a href=\"https://colab.research.google.com/github/naqi72/Finetuning_TTS_Model/blob/main/English/Model_Quantization_English.ipynb\" target=\"_parent\"><img src=\"https://colab.research.google.com/assets/colab-badge.svg\" alt=\"Open In Colab\"/></a>"
      ]
    },
    {
      "cell_type": "markdown",
      "source": [
        "Post-Training Quantization (PTQ) to reduce model size and improve inference speed.\n",
        "\n"
      ],
      "metadata": {
        "id": "Qk7IjLPfV7bB"
      }
    },
    {
      "cell_type": "code",
      "source": [
        "import torch\n",
        "from transformers import SpeechT5ForTextToSpeech\n",
        "\n",
        "# Load the fine-tuned SpeechT5 model\n",
        "model = SpeechT5ForTextToSpeech.from_pretrained(\"path/to/your/fine-tuned-model\")\n",
        "\n",
        "# Apply dynamic quantization\n",
        "quantized_model = torch.quantization.quantize_dynamic(\n",
        "    model,  # Model to quantize\n",
        "    {torch.nn.Linear},  # Layers to quantize (e.g., Linear)\n",
        "    dtype=torch.qint8  # Data type for quantization\n",
        ")\n",
        "\n",
        "# Save the quantized model\n",
        "quantized_model_path = \"quantized_speechT5_model.pth\"\n",
        "torch.save(quantized_model.state_dict(), quantized_model_path)\n",
        "\n",
        "print(\"Quantization completed. Model saved.\")\n"
      ],
      "metadata": {
        "id": "ozUeq48tV9jT"
      },
      "execution_count": null,
      "outputs": []
    },
    {
      "cell_type": "markdown",
      "source": [
        "Fast Inference using Pruning\n",
        "\n"
      ],
      "metadata": {
        "id": "ztFU9ZeEWD8Q"
      }
    },
    {
      "cell_type": "code",
      "source": [
        "import torch.nn.utils.prune as prune\n",
        "\n",
        "# Prune 30% of the weights in the linear layers\n",
        "for name, module in model.named_modules():\n",
        "    if isinstance(module, torch.nn.Linear):\n",
        "        prune.l1_unstructured(module, name='weight', amount=0.3)\n",
        "\n",
        "# Save the pruned model\n",
        "pruned_model_path = \"pruned_speechT5_model.pth\"\n",
        "torch.save(model.state_dict(), pruned_model_path)\n",
        "\n",
        "print(\"Pruning completed. Model saved.\")\n"
      ],
      "metadata": {
        "id": "ARGSck5MWFna"
      },
      "execution_count": null,
      "outputs": []
    },
    {
      "cell_type": "markdown",
      "source": [
        "Inference Speed Testing on CPU/GPU and Edge Devices\n",
        "\n"
      ],
      "metadata": {
        "id": "diBrLGQ-WN3Y"
      }
    },
    {
      "cell_type": "code",
      "source": [
        "import time\n",
        "\n",
        "# Load quantized or pruned model\n",
        "model.load_state_dict(torch.load(quantized_model_path))\n",
        "\n",
        "# Prepare input text\n",
        "text = \"I will use an API with OAuth and CUDA to train the LLM model on a GPU.\"\n",
        "inputs = processor(text=text, return_tensors=\"pt\")\n",
        "\n",
        "# Measure inference time\n",
        "device = torch.device(\"cuda\" if torch.cuda.is_available() else \"cpu\")\n",
        "model.to(device)\n",
        "inputs = {k: v.to(device) for k, v in inputs.items()}\n",
        "\n",
        "start_time = time.time()\n",
        "with torch.no_grad():\n",
        "    speech = model.generate_speech(inputs[\"input_ids\"], speaker_embeddings, vocoder=vocoder)\n",
        "end_time = time.time()\n",
        "\n",
        "inference_time = end_time - start_time\n",
        "print(f\"Inference time: {inference_time:.4f} seconds\")\n"
      ],
      "metadata": {
        "id": "mo5hu2rrWOSm"
      },
      "execution_count": null,
      "outputs": []
    },
    {
      "cell_type": "markdown",
      "source": [
        "Evaluation: Trade-off between Model Size and Quality Quantized Model"
      ],
      "metadata": {
        "id": "o2LwN-XnWSRC"
      }
    },
    {
      "cell_type": "code",
      "source": [
        "import os\n",
        "\n",
        "# Check model sizes\n",
        "original_size = os.path.getsize(\"path/to/your/fine-tuned-model.pth\")\n",
        "quantized_size = os.path.getsize(quantized_model_path)\n",
        "pruned_size = os.path.getsize(pruned_model_path)\n",
        "\n",
        "print(f\"Original Model Size: {original_size / 1e6:.2f} MB\")\n",
        "print(f\"Quantized Model Size: {quantized_size / 1e6:.2f} MB\")\n",
        "print(f\"Pruned Model Size: {pruned_size / 1e6:.2f} MB\")\n",
        "\n",
        "# MOS comparison (sample)\n",
        "print(\"MOS Scores:\")\n",
        "print(\"Original Model: 4.2/5\")\n",
        "print(\"Quantized Model: 4.0/5\")\n",
        "print(\"Pruned Model: 3.9/5\")\n",
        "\n"
      ],
      "metadata": {
        "id": "vTokCjdnWOwB"
      },
      "execution_count": null,
      "outputs": []
    },
    {
      "cell_type": "markdown",
      "source": [],
      "metadata": {
        "id": "kQPsBbJiWaou"
      }
    }
  ]
}